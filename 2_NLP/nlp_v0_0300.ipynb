{
 "cells": [
  {
   "cell_type": "code",
   "execution_count": 6,
   "metadata": {},
   "outputs": [],
   "source": [
    "import sys\n",
    "import pandas as pd\n",
    "import numpy as np\n",
    "from ckiptagger import data_utils, construct_dictionary, WS, POS, NER\n",
    "from ckiptagger import construct_dictionary\n",
    "from sklearn.feature_extraction import DictVectorizer\n",
    "from sklearn.feature_extraction.text import HashingVectorizer\n",
    "from sklearn.linear_model import Perceptron\n",
    "from sklearn.model_selection import train_test_split\n",
    "from sklearn.linear_model import SGDClassifier\n",
    "from sklearn.linear_model import PassiveAggressiveClassifier\n",
    "from sklearn.naive_bayes import MultinomialNB\n",
    "from sklearn.metrics import classification_report\n",
    "\n",
    "host = 4\n",
    "# host = 0\n",
    "\n",
    "if host == 0:\n",
    "    path = r'/Users/aron/Documents/GitHub/Perfume/2_NLP'\n",
    "    dict_file = r'/Users/aron/Documents/GitHub/Perfume/1_Crawler/Resource/dict.xlsx'\n",
    "    data_file = r'/Users/aron/Documents/GitHub/Perfume/1_Crawler/Resource/data.xls'\n",
    "    \n",
    "elif host == 4:\n",
    "    path = r'/home/rserver/Data_Mining/personal_workspace/yz/Lab/CkipTagger/'\n",
    "    dict_file = r'/home/rserver/Data_Mining/personal_workspace/yz/Lab/CkipTagger/Resource/dict.xlsx'\n",
    "    data_file = r'/home/rserver/Data_Mining/personal_workspace/yz/Lab/CkipTagger/Resource/data.xls'\n",
    "\n",
    "    \n",
    "# Codebase ......\n",
    "path_codebase = [r'/Users/aron/Documents/GitHub/Arsenal/',\n",
    "                 r'/home/aronhack/stock_predict/Function',\n",
    "                 r'D:\\GitHub\\Arsenal',\n",
    "                 r'D:\\Data_Mining\\Projects\\Codebase_YZ',\n",
    "                 r'/home/jupyter/Arsenal/20220522',\n",
    "                 path + '/Function']\n",
    "\n",
    "\n",
    "for i in path_codebase:    \n",
    "    if i not in sys.path:\n",
    "        sys.path = [i] + sys.path\n",
    "    \n",
    "\n",
    "import codebase_yz as cbyz\n",
    "    \n",
    "    \n",
    "path_resource = path + '/Resource'\n",
    "path_export = path + '/Export'"
   ]
  },
  {
   "cell_type": "markdown",
   "metadata": {},
   "source": [
    "## Import Custom Dictionary"
   ]
  },
  {
   "cell_type": "code",
   "execution_count": 3,
   "metadata": {},
   "outputs": [],
   "source": [
    "dict_df = pd.read_excel(dict_file)    \n",
    "dict_li = dict_df['word'].tolist()\n",
    "custom_dict = dict((el, 1) for el in dict_li)\n",
    "custom_dict = construct_dictionary(custom_dict)"
   ]
  },
  {
   "cell_type": "code",
   "execution_count": 4,
   "metadata": {},
   "outputs": [
    {
     "name": "stderr",
     "output_type": "stream",
     "text": [
      "/opt/anaconda3/lib/python3.7/site-packages/ckiptagger/model_ws.py:106: UserWarning: `tf.nn.rnn_cell.LSTMCell` is deprecated and will be removed in a future version. This class is equivalent as `tf.keras.layers.LSTMCell`, and will be replaced by that in Tensorflow 2.0.\n",
      "  cell = tf.compat.v1.nn.rnn_cell.LSTMCell(hidden_d, name=name)\n",
      "/opt/anaconda3/lib/python3.7/site-packages/keras/layers/legacy_rnn/rnn_cell_impl.py:988: UserWarning: `layer.add_variable` is deprecated and will be removed in a future version. Please use `layer.add_weight` method instead.\n",
      "  partitioner=maybe_partitioner)\n",
      "/opt/anaconda3/lib/python3.7/site-packages/keras/layers/legacy_rnn/rnn_cell_impl.py:996: UserWarning: `layer.add_variable` is deprecated and will be removed in a future version. Please use `layer.add_weight` method instead.\n",
      "  initializer=initializer)\n",
      "/opt/anaconda3/lib/python3.7/site-packages/ckiptagger/model_pos.py:56: UserWarning: `tf.nn.rnn_cell.LSTMCell` is deprecated and will be removed in a future version. This class is equivalent as `tf.keras.layers.LSTMCell`, and will be replaced by that in Tensorflow 2.0.\n",
      "  cell = tf.compat.v1.nn.rnn_cell.LSTMCell(hidden_d, name=name)\n",
      "/opt/anaconda3/lib/python3.7/site-packages/ckiptagger/model_ner.py:57: UserWarning: `tf.nn.rnn_cell.LSTMCell` is deprecated and will be removed in a future version. This class is equivalent as `tf.keras.layers.LSTMCell`, and will be replaced by that in Tensorflow 2.0.\n",
      "  cell = tf.compat.v1.nn.rnn_cell.LSTMCell(hidden_d, name=name)\n"
     ]
    }
   ],
   "source": [
    "# 2. Load model\n",
    "# To use GPU:\n",
    "#    1. Install tensorflow-gpu (see Installation)\n",
    "#    2. Set CUDA_VISIBLE_DEVICES environment variable, e.g. os.environ[\"CUDA_VISIBLE_DEVICES\"] = \"0\"\n",
    "#    3. Set disable_cuda=False, e.g. ws = WS(\"./data\", disable_cuda=False)\n",
    "# To use CPU:\n",
    "# https://drive.google.com/drive/folders/105IKCb88evUyLKlLondvDBoh7Dy_I1tm\n",
    "\n",
    "ws = WS(path_resource + \"/data\")\n",
    "pos = POS(path_resource + \"/data\")\n",
    "ner = NER(path_resource + \"/data\")"
   ]
  },
  {
   "cell_type": "markdown",
   "metadata": {},
   "source": [
    "## 4. Run the WS-POS-NER pipeline"
   ]
  },
  {
   "cell_type": "code",
   "execution_count": 76,
   "metadata": {},
   "outputs": [],
   "source": [
    "data = pd.read_excel(data_file)\n",
    "data = data.dropna(subset=['title'], axis=0)\n",
    "data = data[~data['title'].str.contains('廣告')]\n",
    "\n",
    "# data = data[~data['name'].isna()]\n",
    "# data = data[data.index<=300]\n",
    "\n",
    "data = data.dropna(subset=['title'], axis=0)\n",
    "sentence_list = data['title'].tolist()\n",
    "\n",
    "# y = data['name'].tolist()\n",
    "y = data['brand'].tolist()"
   ]
  },
  {
   "cell_type": "code",
   "execution_count": 78,
   "metadata": {},
   "outputs": [],
   "source": [
    "data['title'] = data['title'].str.contains('找相似', '')"
   ]
  },
  {
   "cell_type": "code",
   "execution_count": 79,
   "metadata": {},
   "outputs": [],
   "source": [
    "# Test Manually\n",
    "data = data[data['title'].str.contains(' 萬寶龍星際旅者男性淡香水')]\n",
    "sentence_list = data['title'].tolist()"
   ]
  },
  {
   "cell_type": "code",
   "execution_count": 30,
   "metadata": {},
   "outputs": [],
   "source": [
    "word_sentence_list = ws(\n",
    "    sentence_list,\n",
    "    # sentence_segmentation = True, # To consider delimiters\n",
    "    # segment_delimiter_set = {\",\", \"。\", \":\", \"?\", \"!\", \";\"}), # This is the defualt set of delimiters\n",
    "    # recommend_dictionary = dictionary1, # words in this dictionary are encouraged\n",
    "    coerce_dictionary = custom_dict, # words in this dictionary are forced\n",
    ")\n",
    "\n",
    "pos_sentence_list = pos(word_sentence_list)\n",
    "entity_sentence_list = ner(word_sentence_list, pos_sentence_list)"
   ]
  },
  {
   "cell_type": "code",
   "execution_count": null,
   "metadata": {
    "scrolled": true
   },
   "outputs": [],
   "source": [
    "df = pd.DataFrame()\n",
    "for i, sentence in enumerate(sentence_list):\n",
    "    \n",
    "    new_li = list(zip(word_sentence_list[i],  pos_sentence_list[i]))\n",
    "    cur_y = y[i]\n",
    "    \n",
    "    temp_df = pd.DataFrame(new_li, columns=['word', 'pos'])\n",
    "    temp_df['sentence'] = i\n",
    "    temp_df['tag'] = np.where(temp_df['word']==cur_y, '1', '0')\n",
    "    \n",
    "    df = df.append(temp_df)\n",
    "    \n",
    "df = df[['sentence', 'word', 'pos', 'tag']]\n",
    "df"
   ]
  },
  {
   "cell_type": "code",
   "execution_count": null,
   "metadata": {},
   "outputs": [],
   "source": [
    "df[df['tag']=='1']"
   ]
  },
  {
   "cell_type": "code",
   "execution_count": null,
   "metadata": {},
   "outputs": [],
   "source": [
    "# 6. Show Results\n",
    "def print_word_pos_sentence(word_sentence, pos_sentence):\n",
    "    assert len(word_sentence) == len(pos_sentence)\n",
    "    for word, pos in zip(word_sentence, pos_sentence):\n",
    "        print(f\"{word}({pos})\", end=\"\\u3000\")\n",
    "    print()\n",
    "    return\n"
   ]
  },
  {
   "cell_type": "code",
   "execution_count": null,
   "metadata": {},
   "outputs": [],
   "source": [
    "# word_sentence_list[0]\n",
    "# pos_sentence_list[0]\n",
    "\n",
    "df[df['tag']=='1']"
   ]
  },
  {
   "cell_type": "code",
   "execution_count": null,
   "metadata": {},
   "outputs": [],
   "source": [
    "for i, sentence in enumerate(sentence_list):\n",
    "#     print()\n",
    "    print(f\"'{sentence}'\")\n",
    "    print_word_pos_sentence(word_sentence_list[i],  pos_sentence_list[i])\n",
    "    for entity in sorted(entity_sentence_list[i]):\n",
    "        print(entity)"
   ]
  },
  {
   "cell_type": "markdown",
   "metadata": {},
   "source": [
    "## Feature Extraction"
   ]
  },
  {
   "cell_type": "code",
   "execution_count": null,
   "metadata": {},
   "outputs": [],
   "source": [
    "class SentenceGetter(object):\n",
    "    \n",
    "    def __init__(self, data):\n",
    "        self.n_sent = 1\n",
    "        self.data = data\n",
    "        self.empty = False\n",
    "        agg_func = lambda s: [(w, p, t) for w, p, t in zip(s['word'].values.tolist(), \n",
    "                                                           s['pos'].values.tolist(), \n",
    "                                                           s['tag'].values.tolist())]\n",
    "        self.grouped = self.data.groupby('sentence').apply(agg_func)\n",
    "        self.sentences = [s for s in self.grouped]\n",
    "        \n",
    "    def get_next(self):\n",
    "        try: \n",
    "            s = self.grouped['Sentence: {}'.format(self.n_sent)]\n",
    "            self.n_sent += 1\n",
    "            return s \n",
    "        except:\n",
    "            return None\n",
    "\n",
    "        \n",
    "getter = SentenceGetter(df)\n",
    "sentences = getter.sentences"
   ]
  },
  {
   "cell_type": "code",
   "execution_count": null,
   "metadata": {},
   "outputs": [],
   "source": [
    "def word2features(sent, i):\n",
    "    word = sent[i][0]\n",
    "    postag = sent[i][1]\n",
    "    \n",
    "    features = {\n",
    "        'bias': 1.0, \n",
    "        'word.lower()': word.lower(), \n",
    "        'word[-3:]': word[-3:],\n",
    "        'word[-2:]': word[-2:],\n",
    "        'word.isupper()': word.isupper(),\n",
    "        'word.istitle()': word.istitle(),\n",
    "        'word.isdigit()': word.isdigit(),\n",
    "        'postag': postag,\n",
    "        'postag[:2]': postag[:2],\n",
    "    }\n",
    "    if i > 0:\n",
    "        word1 = sent[i-1][0]\n",
    "        postag1 = sent[i-1][1]\n",
    "        features.update({\n",
    "            '-1:word.lower()': word1.lower(),\n",
    "            '-1:word.istitle()': word1.istitle(),\n",
    "            '-1:word.isupper()': word1.isupper(),\n",
    "            '-1:postag': postag1,\n",
    "            '-1:postag[:2]': postag1[:2],\n",
    "        })\n",
    "    else:\n",
    "        features['BOS'] = True\n",
    "    if i < len(sent)-1:\n",
    "        word1 = sent[i+1][0]\n",
    "        postag1 = sent[i+1][1]\n",
    "        features.update({\n",
    "            '+1:word.lower()': word1.lower(),\n",
    "            '+1:word.istitle()': word1.istitle(),\n",
    "            '+1:word.isupper()': word1.isupper(),\n",
    "            '+1:postag': postag1,\n",
    "            '+1:postag[:2]': postag1[:2],\n",
    "        })\n",
    "    else:\n",
    "        features['EOS'] = True\n",
    "        \n",
    "    return features\n",
    "\n",
    "def sent2features(sent):\n",
    "    return [word2features(sent, i) for i in range(len(sent))]\n",
    "def sent2labels(sent):\n",
    "    return [label for token, postag, label in sent]\n",
    "def sent2tokens(sent):\n",
    "    return [token for token, postag, label in sent]"
   ]
  },
  {
   "cell_type": "code",
   "execution_count": null,
   "metadata": {},
   "outputs": [],
   "source": [
    "### Split train and test sets\n",
    "X = [sent2features(s) for s in sentences]\n",
    "new_y = [sent2labels(s) for s in sentences]\n",
    "X_train, X_test, y_train, y_test = train_test_split(X, new_y, test_size=0.33, random_state=0)"
   ]
  },
  {
   "cell_type": "markdown",
   "metadata": {},
   "source": [
    "### Train a CRF model"
   ]
  },
  {
   "cell_type": "code",
   "execution_count": null,
   "metadata": {},
   "outputs": [],
   "source": [
    "import pycrfsuite\n",
    "trainer = pycrfsuite.Trainer(verbose=False)\n",
    "\n",
    "for xseq, yseq in zip(X_train, y_train):\n",
    "    trainer.append(xseq, yseq)"
   ]
  },
  {
   "cell_type": "code",
   "execution_count": null,
   "metadata": {},
   "outputs": [],
   "source": [
    "trainer.set_params({\n",
    "#     'c1': 1.0,   # coefficient for L1 penalty\n",
    "#     'c2': 1e-3,  # coefficient for L2 penalty\n",
    "    'max_iterations': 50,  # stop earlier\n",
    "\n",
    "    # include transitions that are possible, but not observed\n",
    "    'feature.possible_transitions': True\n",
    "})"
   ]
  },
  {
   "cell_type": "code",
   "execution_count": null,
   "metadata": {},
   "outputs": [],
   "source": [
    "trainer.params()"
   ]
  },
  {
   "cell_type": "code",
   "execution_count": null,
   "metadata": {},
   "outputs": [],
   "source": [
    "trainer.train(path_export + '/ckip_tagger_model.crfsuite')"
   ]
  },
  {
   "cell_type": "code",
   "execution_count": null,
   "metadata": {
    "scrolled": true
   },
   "outputs": [],
   "source": [
    "trainer.logparser.last_iteration"
   ]
  },
  {
   "cell_type": "code",
   "execution_count": null,
   "metadata": {},
   "outputs": [],
   "source": [
    "print(len(trainer.logparser.iterations), trainer.logparser.iterations[-1])"
   ]
  },
  {
   "cell_type": "markdown",
   "metadata": {},
   "source": [
    "## Make predictions\n",
    "\n",
    "To use the trained model, create pycrfsuite.Tagger, open the model and use \"tag\" method:"
   ]
  },
  {
   "cell_type": "code",
   "execution_count": null,
   "metadata": {},
   "outputs": [],
   "source": [
    "tagger = pycrfsuite.Tagger()\n",
    "tagger.open(path_export + '/ckip_tagger_model.crfsuite')"
   ]
  },
  {
   "cell_type": "markdown",
   "metadata": {},
   "source": [
    "Let's tag a sentence to see how it works:"
   ]
  },
  {
   "cell_type": "code",
   "execution_count": null,
   "metadata": {
    "scrolled": true
   },
   "outputs": [],
   "source": [
    "y_pred = []\n",
    "for i in range(len(y_test)):\n",
    "    new_pred = tagger.tag(X_test[i])\n",
    "    y_pred.append(new_pred)\n",
    "#     example_sent = X_test[i]\n",
    "#     print(\"Predicted:\", ' '.join(tagger.tag(X_test[i])))    "
   ]
  },
  {
   "cell_type": "code",
   "execution_count": null,
   "metadata": {},
   "outputs": [],
   "source": [
    "y_pred = cbyz.li_flatten(y_pred)\n",
    "y_test = cbyz.li_flatten(y_test)"
   ]
  },
  {
   "cell_type": "code",
   "execution_count": null,
   "metadata": {},
   "outputs": [],
   "source": [
    "# len(y_pred)\n",
    "len(X_test)"
   ]
  },
  {
   "cell_type": "code",
   "execution_count": null,
   "metadata": {},
   "outputs": [],
   "source": [
    "y_test[i for i in y_test]"
   ]
  },
  {
   "cell_type": "code",
   "execution_count": null,
   "metadata": {},
   "outputs": [],
   "source": [
    "print(classification_report(y_pred=y_pred, y_true=y_test))\n",
    "# print(classification_report(y_pred=y_pred, y_true=y_test, labels=new_classes))"
   ]
  },
  {
   "cell_type": "markdown",
   "metadata": {},
   "source": [
    "## Let's check what classifier learned"
   ]
  },
  {
   "cell_type": "code",
   "execution_count": null,
   "metadata": {},
   "outputs": [],
   "source": [
    "from collections import Counter\n",
    "info = tagger.info()\n",
    "\n",
    "def print_transitions(trans_features):\n",
    "    for (label_from, label_to), weight in trans_features:\n",
    "        print(\"%-6s -> %-7s %0.6f\" % (label_from, label_to, weight))\n",
    "\n",
    "print(\"Top likely transitions:\")\n",
    "print_transitions(Counter(info.transitions).most_common(15))\n",
    "\n",
    "print(\"\\nTop unlikely transitions:\")\n",
    "print_transitions(Counter(info.transitions).most_common()[-15:])"
   ]
  },
  {
   "cell_type": "markdown",
   "metadata": {},
   "source": [
    "We can see that, for example, it is very likely that the beginning of an organization name (B-ORG) will be followed by a token inside organization name (I-ORG), but transitions to I-ORG from tokens with other labels are penalized. Also note I-PER -> B-LOC transition: a positive weight means that model thinks that a person name is often followed by a location.\n",
    "\n",
    "Check the state features:"
   ]
  },
  {
   "cell_type": "code",
   "execution_count": null,
   "metadata": {
    "scrolled": true
   },
   "outputs": [],
   "source": [
    "def print_state_features(state_features):\n",
    "    for (attr, label), weight in state_features:\n",
    "        print(\"%0.6f %-6s %s\" % (weight, label, attr))    \n",
    "\n",
    "print(\"Top positive:\")\n",
    "print_state_features(Counter(info.state_features).most_common(20))\n",
    "\n",
    "print(\"\\nTop negative:\")\n",
    "print_state_features(Counter(info.state_features).most_common()[-20:])"
   ]
  },
  {
   "cell_type": "markdown",
   "metadata": {},
   "source": [
    "## Word2Vec"
   ]
  },
  {
   "cell_type": "code",
   "execution_count": 33,
   "metadata": {},
   "outputs": [],
   "source": [
    "import gensim\n",
    "from gensim import matutils\n",
    "from gensim.models.word2vec import Word2Vec\n",
    "\n",
    "\n",
    "model = gensim.models.KeyedVectors.load_word2vec_format(\n",
    "        path_resource + '/tmunlp_1.6B_WB_50dim_2020v1.bin.gz', \n",
    "        unicode_errors='ignore',\n",
    "        binary=True\n",
    "    )"
   ]
  },
  {
   "cell_type": "code",
   "execution_count": 51,
   "metadata": {},
   "outputs": [],
   "source": [
    "# model.vocab"
   ]
  },
  {
   "cell_type": "code",
   "execution_count": 50,
   "metadata": {},
   "outputs": [
    {
     "data": {
      "text/plain": [
       "array([-10.912628  ,   5.5556545 ,  -1.9609258 ,  -2.2676349 ,\n",
       "        -2.6603632 ,   8.803495  ,   2.550427  , -15.03157   ,\n",
       "        -1.2258326 ,   2.7375453 , -10.716909  ,   3.588066  ,\n",
       "        -5.7324567 ,  -6.5745616 ,  11.750382  ,  12.53284   ,\n",
       "        -1.6244458 ,  -6.9417815 ,   2.008579  ,  -8.293338  ,\n",
       "       -10.414997  ,   2.8907945 ,   5.348273  ,  11.527352  ,\n",
       "         3.8111753 ,  -9.892887  ,  -4.8136654 , -17.782816  ,\n",
       "        -4.580268  ,  -9.910597  , -17.388525  , -13.203818  ,\n",
       "       -19.560038  ,   4.3322673 ,  -1.4625031 ,   7.5769176 ,\n",
       "        -5.5711575 ,   1.2358564 ,   1.0384434 ,  -5.7642326 ,\n",
       "         5.852718  ,  -2.639902  ,  -1.9903792 ,  18.69575   ,\n",
       "         2.2073245 ,  -2.0173435 ,   0.23429355,   5.508139  ,\n",
       "        -3.6236613 ,  -4.839179  ], dtype=float32)"
      ]
     },
     "execution_count": 50,
     "metadata": {},
     "output_type": "execute_result"
    }
   ],
   "source": [
    "model.get_vector('還')"
   ]
  },
  {
   "cell_type": "code",
   "execution_count": 72,
   "metadata": {},
   "outputs": [
    {
     "data": {
      "text/plain": [
       "{'香水': array([  4.626414  ,   1.8377794 ,   5.0118885 ,  -2.7468445 ,\n",
       "         -2.7426767 ,   7.874553  ,   1.6198485 , -13.614906  ,\n",
       "         -2.2639399 ,   1.2704594 ,  -3.4802852 ,  -5.7270465 ,\n",
       "          2.834693  ,  -9.493852  ,  -4.7917824 ,  -9.890029  ,\n",
       "          0.06897594,   4.4461985 ,   2.9312348 ,  10.678728  ,\n",
       "          0.8725657 ,   3.9378026 , -11.721785  ,   2.4367194 ,\n",
       "         -1.9657862 ,   3.4773731 ,  -4.303724  ,  -2.9770093 ,\n",
       "          1.7803626 ,  -6.7613225 ,  -2.8269513 ,  -0.17051369,\n",
       "         -2.5308158 ,  -3.3007243 ,  -4.512962  ,   1.3217808 ,\n",
       "         -2.0046532 , -17.194857  ,   9.740687  ,   8.009914  ,\n",
       "         -4.2333064 ,  -9.278232  ,  -1.4423128 ,  -4.1769443 ,\n",
       "         -1.7150015 ,   2.597849  , -13.8694315 ,   5.2736087 ,\n",
       "         -2.0802748 ,  -0.97421753], dtype=float32),\n",
       " '美妝': array([  4.956061  ,  -6.369097  ,  12.553097  ,   0.09311961,\n",
       "        -14.178418  ,  -1.127809  ,   5.7696247 ,  -3.1256685 ,\n",
       "         -9.745538  ,   3.277206  ,   2.5653522 , -14.199776  ,\n",
       "         -5.866164  ,  -7.960968  ,   1.7758607 ,  -6.593359  ,\n",
       "          0.05165508,   1.1484513 ,   4.348836  ,   8.806362  ,\n",
       "         -1.2831258 ,  -8.514904  ,  -3.6778579 ,  10.33234   ,\n",
       "         -1.2388366 ,   5.260298  ,  -1.419783  ,  -0.56379956,\n",
       "         -0.70615685,   6.5111375 ,  -0.04722475,   2.5291476 ,\n",
       "          0.17768972,   3.0407846 , -10.623881  ,  -8.077215  ,\n",
       "         -5.6996098 , -13.593356  ,   3.0876327 ,   1.6650811 ,\n",
       "         -5.753881  , -10.896377  ,  -6.6844354 ,   4.6813016 ,\n",
       "         -3.7203884 ,   8.40738   ,  -9.287036  ,   5.783866  ,\n",
       "         -3.8183572 ,  -2.1757524 ], dtype=float32),\n",
       " '萬寶龍': array([  1.6190245 ,   6.0810037 ,  10.375309  ,   6.1096463 ,\n",
       "         -3.7240984 ,   2.1103182 ,   1.7109703 ,  -7.1416864 ,\n",
       "         -2.3106198 ,   0.07836239,   5.5625896 ,  -4.2731457 ,\n",
       "         -5.362833  ,  -4.5634766 ,  -5.154886  ,  -5.0642295 ,\n",
       "         -1.1477563 ,  -0.10762864,   1.6332234 ,   1.2006693 ,\n",
       "         -2.4077873 ,   4.621743  ,  -0.23851775,  -1.0600702 ,\n",
       "          3.0164626 ,  -2.9964623 ,   4.762696  ,   2.3661728 ,\n",
       "          0.04888531,  -4.0509467 ,  -3.028047  ,   4.1121407 ,\n",
       "          6.460161  ,  -0.27775148,   1.1938454 ,   3.1290662 ,\n",
       "          1.9207084 ,  -7.7140217 ,  -0.40272906,   9.8602495 ,\n",
       "          1.1018361 ,  -0.83227223,   0.2852029 ,  -6.9446726 ,\n",
       "         -0.4259674 ,   0.86715305, -11.059625  ,   1.6953704 ,\n",
       "         -2.639341  ,  -0.8010027 ], dtype=float32),\n",
       " '星際': array([ -3.144202  ,   3.0775073 ,   9.141336  ,   6.136148  ,\n",
       "          3.4605684 ,  -3.4612863 ,   0.42806578,   0.97004545,\n",
       "         -2.5431926 ,   1.2306335 ,   2.1392357 ,   1.5170783 ,\n",
       "          1.8773291 ,   1.7612238 ,  -6.6064444 ,  -9.486512  ,\n",
       "         -1.2013222 , -10.186081  ,   5.1375093 ,  -4.309631  ,\n",
       "         -2.7269297 ,  11.864908  ,   1.10058   ,  -5.000439  ,\n",
       "         -3.2768395 ,   1.1601667 ,  -8.142247  ,   2.7101972 ,\n",
       "         10.815887  ,  -4.1999984 ,  -0.50606203,   4.2361417 ,\n",
       "         -3.1292646 ,  -9.025132  ,   5.472968  ,   5.354272  ,\n",
       "         -6.233707  ,  -5.8436737 ,   6.170287  ,  -0.5122337 ,\n",
       "         -3.2527955 ,   3.634367  , -16.31503   ,   5.6234345 ,\n",
       "          4.8196545 ,  -1.9985695 ,  -8.111628  ,   1.970791  ,\n",
       "          4.3471665 ,   2.0120666 ], dtype=float32),\n",
       " '旅者': array([ -3.654296  ,   4.0571647 ,   8.552215  ,  -2.1496515 ,\n",
       "          3.3195863 ,  -0.09913248,  -1.1570203 ,  -0.7242276 ,\n",
       "          2.5264099 ,  -4.7833176 ,   1.9955726 ,  -2.1185513 ,\n",
       "         -0.1836788 ,   5.3585854 ,  -1.8976606 ,  -0.4181417 ,\n",
       "          0.4406402 ,   0.17877297,   3.95549   ,   4.74004   ,\n",
       "         -6.681271  ,   0.10695738,  -0.8493461 ,  -0.3246144 ,\n",
       "          5.270109  ,   1.0768131 ,  -0.06330124,   0.6027706 ,\n",
       "          0.78960586,  -1.0289055 ,  -3.771612  ,   0.0854732 ,\n",
       "         -0.16001415,  -0.30667025,   1.836329  ,  -0.4319083 ,\n",
       "         -4.5539756 ,  -2.430759  ,   0.86179113,   4.3995304 ,\n",
       "          5.371989  ,  -4.017864  ,   6.3709188 ,  -0.15558593,\n",
       "         -3.3234506 , -10.584636  ,  -8.242496  ,   4.769141  ,\n",
       "          2.2171342 ,   0.72089034], dtype=float32),\n",
       " '男性': array([ 4.82140493e+00,  4.54566908e+00,  2.18891120e+00, -9.28403378e+00,\n",
       "        -1.61849082e+00,  9.30032063e+00, -8.62080860e+00,  1.00964365e+01,\n",
       "        -3.55468941e+00,  5.20413685e+00, -1.12831345e+01,  1.95626330e+00,\n",
       "        -6.69641590e+00,  4.75573587e+00,  8.18223572e+00, -9.29877281e+00,\n",
       "         9.17500114e+00,  9.11063194e+00,  2.56215191e+00,  1.59892340e+01,\n",
       "        -1.36724863e+01,  1.35898851e-02, -1.16211958e+01,  5.12061357e+00,\n",
       "         1.83622396e+00,  1.03140507e+01,  6.72344923e-01, -9.22974467e-01,\n",
       "         8.08276463e+00,  4.49416590e+00, -1.85168481e+00, -5.46164799e+00,\n",
       "        -7.51324606e+00, -8.46328139e-01, -7.57922649e+00,  4.45312405e+00,\n",
       "         8.86791945e-01, -9.03669643e+00,  1.07251692e+01,  9.19633865e+00,\n",
       "         1.29801834e+00, -1.72117078e+00,  3.23641157e+00, -2.45914742e-01,\n",
       "        -1.29771137e+01, -6.79327583e+00,  1.15488613e+00,  1.59505630e+00,\n",
       "        -9.10251319e-01,  3.07065439e+00], dtype=float32),\n",
       " '淡香水': array([  1.3477694 ,   6.911658  ,   8.65425   ,  -3.7736878 ,\n",
       "          7.445651  ,   0.49560052,  -7.058141  , -19.951353  ,\n",
       "          8.3481455 ,   1.6616555 ,  -2.341256  , -10.940523  ,\n",
       "          1.9404874 ,  -0.31279582,  -2.144154  ,  -0.8033569 ,\n",
       "          4.435475  ,  -0.8419025 ,   5.0148807 ,  16.37137   ,\n",
       "         -5.0423765 ,   1.6962876 ,  -5.4491067 ,   5.635758  ,\n",
       "          1.2665107 ,   3.5881824 ,   0.42143273,   7.1200185 ,\n",
       "         -0.26769698,  -9.671316  ,   6.634111  ,  -3.138118  ,\n",
       "         -2.3394113 ,  -7.631346  ,  -5.407075  ,   3.541554  ,\n",
       "         -7.143782  ,  -8.696929  ,   5.492984  ,   6.1426    ,\n",
       "         -2.4088514 ,  -5.909619  ,  -3.612033  ,  -8.214786  ,\n",
       "         -6.404313  ,   3.5776534 ,  -8.304963  ,   4.280528  ,\n",
       "          4.161215  ,   5.0874386 ], dtype=float32),\n",
       " '50': array([-10.920744  ,   1.6216868 ,  -4.9034486 ,   1.1689211 ,\n",
       "          4.7343044 ,   1.9602674 ,  -2.4427066 ,   1.7259743 ,\n",
       "          3.131012  ,  -8.254129  , -16.163261  ,  19.199509  ,\n",
       "          8.518046  , -13.527843  ,   0.71699166,  10.3392105 ,\n",
       "          6.8277807 , -10.725104  ,   4.354047  ,   3.7299416 ,\n",
       "         16.210823  ,  -7.675023  ,   0.43419585,  -0.52611214,\n",
       "         21.406054  ,  10.177603  ,   0.26287502,   1.6954267 ,\n",
       "         27.649858  ,  -4.8813667 ,   8.012765  ,   7.5259194 ,\n",
       "          0.123148  ,   0.7468107 ,   1.7962615 ,   2.0609646 ,\n",
       "          6.49573   , -13.258023  ,   6.0563354 ,  -1.7222495 ,\n",
       "          0.3856711 ,   7.0366397 ,   7.1966257 , -11.157559  ,\n",
       "        -18.061897  ,  -3.3607988 ,   6.7107215 ,   3.174771  ,\n",
       "          9.313503  ,  -3.1010077 ], dtype=float32),\n",
       " '75': array([ -9.452837  ,   3.3419275 ,  -8.953223  ,  -0.0744263 ,\n",
       "          2.3335907 ,   4.3103666 ,  -2.9951286 ,  -2.1652281 ,\n",
       "          0.20999554,  -7.9656653 , -16.948923  ,  14.043103  ,\n",
       "          2.7745063 ,  -8.841498  ,   0.16500837,   5.6286035 ,\n",
       "          5.044212  ,  -6.805057  ,   2.9950914 ,   0.04840659,\n",
       "         11.091217  ,  -4.327149  ,   2.063771  ,  -3.805135  ,\n",
       "         14.623174  ,   8.465857  ,   1.0347666 ,   0.99412066,\n",
       "         24.656067  ,  -6.2390504 ,  10.316317  ,   5.484753  ,\n",
       "         -0.04368365,  -1.3815916 ,  -2.2477453 ,   0.7374985 ,\n",
       "          6.20829   , -10.308245  ,   6.876763  ,   0.0393872 ,\n",
       "         -2.3199239 ,   7.96466   ,   6.6356664 , -10.754014  ,\n",
       "        -18.184078  ,  -3.8513002 ,   4.6249375 ,  -0.8697002 ,\n",
       "          9.477386  ,  -0.6635081 ], dtype=float32),\n",
       " '【': array([ -6.0017605 ,  -2.341998  ,   2.4086366 ,  -2.8424785 ,\n",
       "         -1.0127206 ,  -4.097229  ,  12.4401045 , -10.8227215 ,\n",
       "         -6.421479  ,   7.05238   ,   4.369319  , -14.0650835 ,\n",
       "        -10.069627  ,  -3.629252  ,  22.088108  ,  16.950537  ,\n",
       "         15.788948  , -15.34371   ,  10.690545  ,  -8.11817   ,\n",
       "        -13.334128  ,  -3.8541229 ,  14.743167  ,  -5.342568  ,\n",
       "          5.4210973 ,   2.8217752 , -10.2482    ,  -9.413196  ,\n",
       "          2.348733  , -12.907049  ,  -0.31907544, -24.261753  ,\n",
       "         -6.9137316 ,  -1.9574604 , -13.302814  ,  13.50935   ,\n",
       "        -25.09489   , -13.680246  , -22.111298  ,  -1.5930918 ,\n",
       "        -14.431538  ,  -3.2715666 , -12.636556  ,  -5.7875643 ,\n",
       "          1.9007851 ,   0.5903166 ,  -9.001302  ,   0.29096773,\n",
       "         30.070698  ,  12.581824  ], dtype=float32),\n",
       " '全新': array([ -6.43661   ,  -2.7774897 ,   7.525609  ,   8.298189  ,\n",
       "          4.7137747 ,   9.0920925 ,   1.5330614 ,   1.1620044 ,\n",
       "          7.951558  ,  -0.54110086,   5.082715  ,  -6.731082  ,\n",
       "        -11.58509   ,  -6.750747  ,  -1.3412641 ,  -8.04783   ,\n",
       "          7.149936  ,  -9.708008  ,   5.722112  ,  -3.8942456 ,\n",
       "         -7.0482774 ,   5.2229247 ,  -3.4823267 ,   6.28264   ,\n",
       "         -6.423572  ,   0.32083905,  -8.607141  ,   3.774976  ,\n",
       "          8.455472  , -13.80847   ,  15.4577675 ,  11.552622  ,\n",
       "          6.025941  ,   0.70467   ,  -5.183592  ,  -7.4201283 ,\n",
       "          0.78982604,  -3.3582373 ,   3.4679515 ,  -1.5509613 ,\n",
       "          0.543038  ,  -7.982183  ,  -1.1025758 ,   0.26604143,\n",
       "          7.7287707 ,  14.660755  ,  -7.749435  ,  -4.6709485 ,\n",
       "         17.705168  ,   1.0753924 ], dtype=float32),\n",
       " '正品': array([ 11.2400055 ,   0.80953157,  -7.5880017 ,  -0.27163196,\n",
       "         -0.16086182,   0.14801316,   1.9861218 , -10.588834  ,\n",
       "          6.854073  ,  -2.4086983 ,   5.2753654 ,  -2.4636767 ,\n",
       "         -1.5404494 ,  -3.8907495 ,  -6.3524866 , -10.067985  ,\n",
       "         -0.4205032 ,  -0.725977  ,   5.859781  ,   1.4069345 ,\n",
       "          1.1961851 ,  -3.586901  ,  -4.3356733 ,   2.0617976 ,\n",
       "          3.0244262 ,   2.0451717 ,   0.2612193 ,  -2.8951662 ,\n",
       "          4.8231015 ,   1.8000839 ,  -1.0609081 ,  -1.9093357 ,\n",
       "          4.512677  ,  -0.2003537 ,  -7.1775584 ,   0.99211824,\n",
       "          6.445737  , -12.009472  ,   1.0434839 ,   3.6341183 ,\n",
       "          3.8892477 ,  -4.7675734 ,  -3.523797  ,  -4.587239  ,\n",
       "         -0.62395597,  -2.5485892 ,  -1.7582254 ,   5.969607  ,\n",
       "        -10.084206  ,  -0.41182932], dtype=float32),\n",
       " '】': array([ -2.508834  ,  -6.092804  ,  12.145689  ,  -4.947242  ,\n",
       "        -13.690047  ,  -2.0328622 ,  -1.8266295 , -13.026542  ,\n",
       "          6.370104  ,   8.737478  ,  11.46823   , -15.9480295 ,\n",
       "         -8.752765  ,   5.672062  ,  -6.478371  ,   9.043149  ,\n",
       "          0.10600931, -15.201017  ,  14.444324  ,  -4.128304  ,\n",
       "          1.0722995 ,   0.33330747,  15.822671  ,  -0.06737179,\n",
       "        -11.839296  ,  25.966301  ,   8.025722  ,  -0.63163054,\n",
       "          8.941934  ,   4.8644676 ,  -1.1457294 ,  -4.8461723 ,\n",
       "          1.0001018 ,  -6.635213  ,  18.455063  ,  -2.1105165 ,\n",
       "         -9.218249  ,   1.6131011 ,  -9.456335  ,  10.267015  ,\n",
       "        -10.313763  ,   6.170638  ,  -9.85425   ,  -1.997716  ,\n",
       "         -0.31683967,  13.128736  ,  -2.6957424 ,  -4.4649673 ,\n",
       "         23.395525  ,  -0.06075153], dtype=float32),\n",
       " '$': array([ 15.668713  ,   1.7733102 ,  -3.6571856 ,  -1.8116438 ,\n",
       "        -11.42474   ,   2.8997567 ,   0.14112903,  -2.8381658 ,\n",
       "         11.229975  ,  -4.2061877 ,   0.8666873 , -21.347366  ,\n",
       "        -11.636419  ,   8.016854  , -10.831882  ,   2.1803324 ,\n",
       "          5.8934107 ,  -5.7949815 ,  13.336295  ,  13.124499  ,\n",
       "          2.0636106 ,   5.877665  ,  -8.398247  ,  -1.2121369 ,\n",
       "          9.168438  ,   0.24032862, -17.314728  ,  15.527248  ,\n",
       "          7.3822794 , -11.969818  ,   1.0942401 ,   1.09971   ,\n",
       "         10.765589  ,   6.195303  ,  -4.012423  ,  22.760612  ,\n",
       "         18.542603  ,  -4.7614264 ,  -3.9895592 ,  -1.3864421 ,\n",
       "          9.214117  ,  -1.7015642 ,  -3.400409  ,  -0.57353234,\n",
       "         -4.4304056 ,   1.7508701 ,   7.5237913 ,  28.481     ,\n",
       "          6.6466417 ,  -0.21125828], dtype=float32),\n",
       " '880': array([-2.5927145 ,  4.113524  , -4.096349  ,  0.39621073,  1.2929069 ,\n",
       "         8.134995  ,  5.0156093 , -4.941795  , -8.008345  , -7.999732  ,\n",
       "         1.2101663 ,  4.2811584 , -6.6136866 , -0.53714955, -0.92423886,\n",
       "         1.7322013 , -0.2885513 , -1.7592633 ,  3.0424206 , -0.97083694,\n",
       "         3.24106   , -7.8482285 , -0.61204517, -3.0062952 ,  4.3133187 ,\n",
       "        -0.54492843, -0.37675792,  7.211459  , 16.335842  , -4.6733675 ,\n",
       "         6.5574017 , -1.371845  ,  1.7754056 ,  3.995816  , -3.3141026 ,\n",
       "         8.762808  ,  2.3376584 , -9.473871  ,  3.744961  , -1.3168647 ,\n",
       "         0.5725925 ,  6.8187857 , -2.4294133 , -5.8041415 , -7.3587728 ,\n",
       "        -4.2901006 ,  7.4444685 ,  4.749023  ,  5.751985  , -7.452432  ],\n",
       "       dtype=float32),\n",
       " '930': array([ 0.43250427,  3.0304985 , -5.9984818 ,  2.2395227 ,  3.0916417 ,\n",
       "         7.840538  ,  5.2621746 , -1.3093318 , -0.41925836, -0.6705507 ,\n",
       "         0.2822079 ,  3.660787  , -7.7745214 , -4.2572527 , -1.8209895 ,\n",
       "         0.67442137,  0.6288519 ,  0.06940731,  0.69566315, -1.8561177 ,\n",
       "        -1.4955782 , -4.244313  ,  1.0996993 , -5.4853997 ,  4.8689566 ,\n",
       "        -4.3720794 , -1.2435241 ,  5.3158445 , 16.202662  ,  1.0790828 ,\n",
       "        -0.02259911, -0.6776647 , -1.5590329 ,  0.19701573,  0.05748279,\n",
       "         4.558515  , -0.57425666, -1.520801  ,  3.0903344 ,  2.3224568 ,\n",
       "        -0.63850725,  5.638863  , -0.09189373, -2.8765562 , -4.6709146 ,\n",
       "        -3.2429173 ,  7.192444  , -1.9093813 ,  6.5929756 , -6.9403834 ],\n",
       "       dtype=float32),\n",
       " '已': array([ -5.7929997,   5.161033 , -11.024496 ,   5.9660897,  15.205702 ,\n",
       "          4.698127 , -11.338463 ,  -4.1817026,   2.5495381,   8.634751 ,\n",
       "         -2.5733316,  -0.2421217,  -2.199885 , -10.941912 ,   3.198179 ,\n",
       "         15.758139 ,   0.3753335,  -6.807509 ,   5.4386697,  -3.8349407,\n",
       "         -5.1070986,   2.6512609,   1.4359106,  12.888442 ,  -2.9350955,\n",
       "         -4.473896 ,  -7.3007436,  -3.5747964,   3.4011097,  -4.5702496,\n",
       "         -2.4064066,   4.7816753,   4.0182924,   3.5480578,  -8.930189 ,\n",
       "        -18.707092 ,  -1.6274444,  11.7728815,  -5.089651 ,   1.5697153,\n",
       "          2.3417234,   3.2436893,   0.2774014,  -2.368632 ,  -3.6861718,\n",
       "         -5.0293193,  -3.481701 , -12.456005 , -19.568588 ,  -5.2909775],\n",
       "       dtype=float32),\n",
       " '售出': array([  7.5488114 ,  -8.303363  , -10.398321  ,   7.227755  ,\n",
       "         -2.1924314 ,   3.5583115 ,   3.5833154 ,   4.1904206 ,\n",
       "          2.735741  ,   4.471565  ,  -5.288212  ,  -8.935079  ,\n",
       "         -4.923968  ,  -2.113245  , -19.790579  ,   1.3189951 ,\n",
       "         -6.2000036 ,   2.4641528 ,   4.7874637 ,  11.546008  ,\n",
       "          8.640019  ,  10.798279  ,   5.725617  , -12.07291   ,\n",
       "          3.2464368 , -10.216424  ,   1.887636  ,   6.868202  ,\n",
       "          3.289854  ,  -8.697544  ,  -8.0403385 ,  10.344143  ,\n",
       "          8.046115  ,  -8.814969  ,  -7.4654975 ,   3.170369  ,\n",
       "          2.2791142 ,  -2.8493621 ,   4.359742  ,  -6.4979753 ,\n",
       "          0.05277966,  -7.8570294 ,   3.202065  ,  -8.949204  ,\n",
       "        -13.432957  ,  -5.1137266 ,   1.4802455 ,  12.434611  ,\n",
       "         -2.8387504 ,  -1.4802049 ], dtype=float32),\n",
       " '臺北市': array([  3.0200298 ,   0.83004874,  -2.4961052 ,  -1.9176936 ,\n",
       "         -6.6400886 ,   2.3865533 ,  -2.3931112 ,  15.3953    ,\n",
       "          7.8616138 ,  -0.12747411,   2.7657764 ,   3.3535187 ,\n",
       "         -3.3133368 ,   4.6795015 ,  -0.9579713 ,  -0.12883145,\n",
       "          4.8319163 ,  -2.2382283 ,   2.38289   ,  -3.9918008 ,\n",
       "         -1.2002194 ,  -6.667673  ,   2.6072617 ,   6.0546618 ,\n",
       "          2.8666818 ,   7.1472096 ,   6.030339  ,   1.6428562 ,\n",
       "         -6.795416  ,   8.129966  ,   5.2400265 ,   7.871549  ,\n",
       "          3.7995405 ,   3.434591  ,  -7.7623715 ,   3.7251835 ,\n",
       "          4.002514  ,   1.5188807 ,   0.03188691,  -1.6237258 ,\n",
       "        -11.542026  ,  -0.27462083,  -5.6434135 ,  -5.72093   ,\n",
       "         -4.1273546 ,  -2.2800827 ,  -6.3291044 ,  -7.1506314 ,\n",
       "          2.0813801 , -10.167076  ], dtype=float32),\n",
       " '中山區': array([ -1.2931751 ,  -1.7317306 ,  -6.7916985 ,  -2.6390085 ,\n",
       "          0.7642789 ,   0.6959115 ,  -5.8239107 ,   6.900732  ,\n",
       "          3.2397044 ,   1.5745046 ,   4.85665   ,  -5.2044005 ,\n",
       "         -4.311351  ,   3.21803   ,  -1.3511885 ,  -5.705008  ,\n",
       "         15.535734  ,   9.352938  ,  -0.6373391 ,   0.44355094,\n",
       "         -9.733727  ,  -4.7807064 ,  -0.9636814 ,  -1.3604186 ,\n",
       "          4.3266964 ,  -0.29263675,   4.766218  ,  -1.542443  ,\n",
       "          1.9703413 ,  12.449041  ,  -2.6857526 ,   4.861338  ,\n",
       "          4.0381303 ,   5.1155157 ,  -2.3140275 ,   6.535155  ,\n",
       "          4.6617723 ,  -1.5373135 ,  -6.649425  ,   0.7643506 ,\n",
       "        -10.251297  ,   3.7450538 ,  -7.6588144 ,   7.3152127 ,\n",
       "         -8.604749  ,  -6.467622  ,  -3.3644495 ,  -3.596051  ,\n",
       "          4.5916395 ,  -9.138935  ], dtype=float32),\n",
       " '找': array([ -2.4089305 ,  -9.048505  ,  -6.8673916 ,   0.48962075,\n",
       "         -8.167318  , -15.28586   ,  -6.4460406 ,  -2.3150713 ,\n",
       "         -5.7038784 ,  -5.3783545 ,  -1.0133066 ,  -3.7552097 ,\n",
       "         -3.0866497 ,   0.03127597,  -3.8242853 ,   3.7455785 ,\n",
       "          0.07477921,  11.328256  ,   2.4618478 ,   9.908784  ,\n",
       "          4.5693626 ,  -2.5289614 ,  20.894833  ,  -1.4633968 ,\n",
       "          9.117651  ,  -7.2117257 ,   4.7654896 , -16.88739   ,\n",
       "        -12.061237  ,  10.639736  ,  -7.4801435 , -14.95232   ,\n",
       "         -4.2306967 ,   9.151728  ,  15.692927  ,  -2.1519704 ,\n",
       "          2.743706  ,   0.2487887 ,  -5.012142  ,  -0.14777595,\n",
       "          0.9036925 , -10.425758  ,   0.7417818 ,   1.9453777 ,\n",
       "         -1.7151366 ,  -0.46682134,  15.990804  ,   6.9334383 ,\n",
       "          1.6176809 ,  -2.638578  ], dtype=float32),\n",
       " '相似': array([  1.9784567 ,   7.142238  ,  -9.550069  ,  -1.1868045 ,\n",
       "         11.345361  ,   6.4777093 ,  -4.334927  ,  -2.8680303 ,\n",
       "         -8.773934  ,   1.1122131 , -13.070749  ,  -0.19937974,\n",
       "         -0.23148361,   6.6256156 ,  -3.2755613 , -13.451381  ,\n",
       "         -4.04997   ,  14.7052    ,  -5.9600325 ,   7.177491  ,\n",
       "        -11.575979  ,  -4.0991435 ,   6.0839725 ,  -6.606129  ,\n",
       "         -7.800874  ,  -7.5735116 ,   6.136468  ,  -1.953709  ,\n",
       "          9.695447  ,   1.4057353 ,   3.8990414 ,   1.0240651 ,\n",
       "         -5.5547023 ,  -3.5152738 ,   6.7471867 ,   5.098151  ,\n",
       "         -0.6513615 ,  -9.928927  ,   2.1874683 ,  -5.729362  ,\n",
       "         11.6679535 ,  -7.0208287 ,   1.5876563 ,  -0.9879495 ,\n",
       "         -0.6619244 ,   6.4902873 ,  -7.7602463 , -16.736248  ,\n",
       "          3.7736785 ,   0.11601593], dtype=float32)}"
      ]
     },
     "execution_count": 72,
     "metadata": {},
     "output_type": "execute_result"
    }
   ],
   "source": [
    "for i in [0]:\n",
    "# for i in range(len(word_sentence_list)):\n",
    "\n",
    "    word_vec = {}\n",
    "    for w in word_sentence_list[i]:\n",
    "        try:\n",
    "            word_vec[w] = model.get_vector(w)\n",
    "        except:\n",
    "            pass\n",
    "\n",
    "word_vec        "
   ]
  },
  {
   "cell_type": "code",
   "execution_count": 62,
   "metadata": {},
   "outputs": [
    {
     "data": {
      "text/plain": [
       "0.09958271"
      ]
     },
     "execution_count": 62,
     "metadata": {},
     "output_type": "execute_result"
    }
   ],
   "source": [
    "\n",
    "np.dot(matutils.unitvec(vec1), matutils.unitvec(vec2))"
   ]
  },
  {
   "cell_type": "code",
   "execution_count": 43,
   "metadata": {},
   "outputs": [
    {
     "data": {
      "text/plain": [
       "gensim.models.keyedvectors.Word2VecKeyedVectors"
      ]
     },
     "execution_count": 43,
     "metadata": {},
     "output_type": "execute_result"
    }
   ],
   "source": [
    "type(model)"
   ]
  },
  {
   "cell_type": "code",
   "execution_count": 73,
   "metadata": {},
   "outputs": [
    {
     "data": {
      "text/plain": [
       "array([[-2.4727688 ,  8.788344  , -3.2833579 , ...,  0.03281746,\n",
       "        -8.01406   , -0.02968044],\n",
       "       [-4.6349583 ,  8.328626  , -1.075075  , ..., -3.4139404 ,\n",
       "        -0.5045959 ,  5.89484   ],\n",
       "       [-4.245946  ,  8.922086  ,  1.3067998 , ..., -4.7974987 ,\n",
       "        -5.482261  ,  5.5655594 ],\n",
       "       ...,\n",
       "       [-0.2069984 , -0.8096438 , -0.21803781, ..., -1.1348562 ,\n",
       "         0.35619432,  0.02554984],\n",
       "       [-0.77811223, -0.5388475 ,  0.1717956 , ..., -0.33595872,\n",
       "         0.01547962,  1.5065216 ],\n",
       "       [-0.556597  , -0.32617614,  1.7839069 , ...,  0.45378953,\n",
       "         0.86942905,  0.05036779]], dtype=float32)"
      ]
     },
     "execution_count": 73,
     "metadata": {},
     "output_type": "execute_result"
    }
   ],
   "source": [
    "# model.vectors\n",
    "# model.vocab"
   ]
  },
  {
   "cell_type": "code",
   "execution_count": 74,
   "metadata": {},
   "outputs": [
    {
     "data": {
      "text/plain": [
       "1723175"
      ]
     },
     "execution_count": 74,
     "metadata": {},
     "output_type": "execute_result"
    }
   ],
   "source": [
    "len(model.vocab)"
   ]
  },
  {
   "cell_type": "markdown",
   "metadata": {},
   "source": [
    "## Worklist"
   ]
  },
  {
   "cell_type": "code",
   "execution_count": null,
   "metadata": {},
   "outputs": [],
   "source": [
    "# - 跟淡香水之間的距離\n",
    "#   和男性、女性、中性的距離\n",
    "# - 如果title中同時出現「淡香水」、「淡香精」就排除"
   ]
  }
 ],
 "metadata": {
  "kernelspec": {
   "display_name": "Python 3",
   "language": "python",
   "name": "python3"
  },
  "language_info": {
   "codemirror_mode": {
    "name": "ipython",
    "version": 3
   },
   "file_extension": ".py",
   "mimetype": "text/x-python",
   "name": "python",
   "nbconvert_exporter": "python",
   "pygments_lexer": "ipython3",
   "version": "3.7.6"
  }
 },
 "nbformat": 4,
 "nbformat_minor": 4
}
